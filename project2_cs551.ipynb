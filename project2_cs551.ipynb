{
  "nbformat": 4,
  "nbformat_minor": 0,
  "metadata": {
    "colab": {
      "name": "project2_cs551.ipynb",
      "provenance": [],
      "collapsed_sections": []
    },
    "kernelspec": {
      "name": "python3",
      "display_name": "Python 3"
    }
  },
  "cells": [
    {
      "cell_type": "code",
      "metadata": {
        "id": "Qv1Cd46YRePQ"
      },
      "source": [
        "from sklearn.datasets import fetch_20newsgroups\n",
        "from sklearn.feature_extraction.text import CountVectorizer\n",
        "from sklearn.feature_extraction.text import TfidfTransformer\n",
        "import matplotlib.pyplot as plt\n",
        "import pandas as pd\n",
        "import numpy as np\n",
        "np.set_printoptions(suppress=True) #no scientific notation\n",
        "import tensorflow as tf\n",
        "from tensorflow import keras"
      ],
      "execution_count": null,
      "outputs": []
    },
    {
      "cell_type": "markdown",
      "metadata": {
        "id": "oY30cqrgVNnU"
      },
      "source": [
        "# Naive Bayes Classifier"
      ]
    },
    {
      "cell_type": "code",
      "metadata": {
        "id": "2u0vUzhEq4c6"
      },
      "source": [
        "class MultinomialNaiveBayes:\n",
        "    \n",
        "    def __init__(self):\n",
        "        return\n",
        "\n",
        "\n",
        "    def fit(self, x, y):\n",
        "      C = np.max(y) + 1\n",
        "      self.C = C\n",
        "      Nc = np.zeros(C) # number of instances in class c\n",
        "      dico_conditionals_per_class = dict.fromkeys((range(C)))\n",
        "\n",
        "      unique_words_all, word_count_all = np.unique(x.indices, return_counts=True )   #get number of appearances of word w in total\n",
        "      vocabulary_size = unique_words_all.shape[0]   #total number of distinct words in all classes\n",
        "      self.vocabulary_size = vocabulary_size\n",
        "\n",
        "      for c in range(C):\n",
        "        x_c = x[y == c]                           #slice all the elements from class c\n",
        "        Nc[c] = x_c.shape[0]                      #get number of elements of class c\n",
        "        unique_keys, counts = np.unique(x_c.indices, return_counts=True )   #get number of appearances of word w per class c\n",
        "        nb_words_per_class = counts.sum() #sum all occurences in this class (not distinct)\n",
        "        smoothed_counts = counts + np.ones(counts.shape)   #add smoothing +1\n",
        "        conditionals = np.zeros(unique_keys.shape)\n",
        "        total_smoothed_count = nb_words_per_class + vocabulary_size   #count(c)+|V|\n",
        "        conditionals = smoothed_counts / total_smoothed_count   #conditional probabilities : (count(w,c)+1) / (count(c)+|V|)\n",
        "        keys_conditionals = np.column_stack((unique_keys,conditionals))    # matrix[words, conditional_probs]\n",
        "        dico_conditionals_per_class[c]  =  keys_conditionals\n",
        "\n",
        "      self.dico_conditionals_per_class =  dico_conditionals_per_class\n",
        "\n",
        "      total_nb_docs = Nc.sum()\n",
        "      priors = Nc/total_nb_docs      #class probs\n",
        "      self.priors = priors\n",
        "      return self\n",
        "\n",
        "    def predict(self,xt):\n",
        "      Nt, D = xt.shape\n",
        "      all_posteriors = np.zeros((Nt,self.C))    #hold log_posterior per class\n",
        "      for d in range(Nt): # Iterating through all the dataset\n",
        "        doc = xt[d]\n",
        "        for c in range(self.C): \n",
        "          #get conditional for each word given class c\n",
        "          c_likelihoods = self.dico_conditionals_per_class[c]   #2D array [[word_id, prob],...]\n",
        "          wlog_likelihoods = 0\n",
        "          for i in range(doc.indices.shape[0]):  #each word in doc\n",
        "            index = np.where(c_likelihoods[:, 0] == doc.indices[i])[0]\n",
        "            if index.size==0 :\n",
        "              word_likelihood = 1/self.vocabulary_size    #if word id not found : use 1/V\n",
        "            else :\n",
        "              word_likelihood = c_likelihoods[index][0][1]\n",
        "            log_likelihood = np.log2(word_likelihood) * doc.data[i]\n",
        "            wlog_likelihoods += log_likelihood\n",
        "          log_prior = np.log2(self.priors[c])\n",
        "          log_posterior = log_prior + wlog_likelihoods    #posterior = prior * conditional for each word\n",
        "          all_posteriors[d][c] = log_posterior   #store \n",
        "      \n",
        "      predicted = np.argmax(all_posteriors, axis=1)\n",
        "      return predicted  \n",
        "\n",
        "    def evaluate_acc(self, y, yhat):\n",
        "      accuracy = np.sum(y == yhat)/y.shape[0]\n",
        "      return accuracy"
      ],
      "execution_count": null,
      "outputs": []
    },
    {
      "cell_type": "code",
      "metadata": {
        "id": "0CLMDfg8Ulyq"
      },
      "source": [
        "def cross_validate_split(n, n_folds=5, percent=False):\n",
        "    #get the number of data samples in each split\n",
        "    n_val = n // n_folds\n",
        "    n_val = int(n_val)\n",
        "    inds = np.random.permutation(n)\n",
        "    inds = []\n",
        "    if percent:\n",
        "        n_folds = 5\n",
        "    for f in range(n_folds):\n",
        "        tr_inds = []\n",
        "        #get the validation indexes\n",
        "        val_inds = list(range(f * n_val, (f+1)*n_val))\n",
        "        #get the train indexes\n",
        "        if f > 0:\n",
        "            tr_inds = list(range(f*n_val))\n",
        "        if f < n_folds - 1:\n",
        "            tr_inds = tr_inds + list(range((f+1)*n_val, n))\n",
        "        #The yield statement suspends function’s execution and sends a value back to the caller\n",
        "        #but retains enough state information to enable function to resume where it is left off\n",
        "        yield tr_inds, val_inds"
      ],
      "execution_count": null,
      "outputs": []
    },
    {
      "cell_type": "code",
      "metadata": {
        "id": "u0pXWFIGlwPx"
      },
      "source": [
        "def kfoldCV(model, data, label, cv):\n",
        "    err_valid = []\n",
        "    for f, (tr, val) in enumerate(cv):\n",
        "      model.fit(data[tr],label[tr])\n",
        "      yhat = model.predict(data[val])\n",
        "      acc = model.evaluate_acc(label[val],yhat)\n",
        "      print('Fold ', f, '========> Acc:',acc)\n",
        "\n",
        "      err_valid.append(acc)\n",
        "    return np.array(err_valid).mean()"
      ],
      "execution_count": null,
      "outputs": []
    },
    {
      "cell_type": "code",
      "metadata": {
        "id": "-YsPMQv-3XKy"
      },
      "source": [
        "def partialTrain(model, data, label, percent):\n",
        "    err_valid = []\n",
        "    for f, (tr, val) in enumerate(cross_validate_split(data.shape[0], (1-percent)**-1, True)):\n",
        "      model.fit(data[tr],label[tr])\n",
        "      yhat = model.predict(data[val])\n",
        "      acc = model.evaluate_acc(label[val],yhat)\n",
        "      print('Fold ', f, '========> Acc:',acc)\n",
        "\n",
        "      err_valid.append(acc)\n",
        "      break\n",
        "    return np.array(err_valid).mean()"
      ],
      "execution_count": null,
      "outputs": []
    },
    {
      "cell_type": "markdown",
      "metadata": {
        "id": "LFQK4PCqtUg1"
      },
      "source": [
        "#IMDB Dataset\n"
      ]
    },
    {
      "cell_type": "code",
      "metadata": {
        "id": "s8m1C5Fym4aO",
        "colab": {
          "base_uri": "https://localhost:8080/"
        },
        "outputId": "8c00d657-ddad-4877-be2e-7f7041ac214b"
      },
      "source": [
        "(ximdb_train, yreviews_train), (ximdb_test, yreviews_test) = tf.keras.datasets.imdb.load_data(path='imdb.npz') # num_words , skip_top\n",
        "ximdb_train_data = np.append(ximdb_train, ximdb_test)\n",
        "ximdb_label_data = np.append(yreviews_train, yreviews_test)"
      ],
      "execution_count": null,
      "outputs": [
        {
          "output_type": "stream",
          "text": [
            "Downloading data from https://storage.googleapis.com/tensorflow/tf-keras-datasets/imdb.npz\n",
            "17465344/17464789 [==============================] - 0s 0us/step\n"
          ],
          "name": "stdout"
        },
        {
          "output_type": "stream",
          "text": [
            "<string>:6: VisibleDeprecationWarning: Creating an ndarray from ragged nested sequences (which is a list-or-tuple of lists-or-tuples-or ndarrays with different lengths or shapes) is deprecated. If you meant to do this, you must specify 'dtype=object' when creating the ndarray\n",
            "/usr/local/lib/python3.7/dist-packages/tensorflow/python/keras/datasets/imdb.py:159: VisibleDeprecationWarning: Creating an ndarray from ragged nested sequences (which is a list-or-tuple of lists-or-tuples-or ndarrays with different lengths or shapes) is deprecated. If you meant to do this, you must specify 'dtype=object' when creating the ndarray\n",
            "  x_train, y_train = np.array(xs[:idx]), np.array(labels[:idx])\n",
            "/usr/local/lib/python3.7/dist-packages/tensorflow/python/keras/datasets/imdb.py:160: VisibleDeprecationWarning: Creating an ndarray from ragged nested sequences (which is a list-or-tuple of lists-or-tuples-or ndarrays with different lengths or shapes) is deprecated. If you meant to do this, you must specify 'dtype=object' when creating the ndarray\n",
            "  x_test, y_test = np.array(xs[idx:]), np.array(labels[idx:])\n"
          ],
          "name": "stderr"
        }
      ]
    },
    {
      "cell_type": "code",
      "metadata": {
        "id": "AtI6htQ4xLxV"
      },
      "source": [
        "# Turn numerical data in text data\n",
        "word_to_id = keras.datasets.imdb.get_word_index()\n",
        "word_to_id = {k:(v+3) for k,v in word_to_id.items()}\n",
        "word_to_id[\"<PAD>\"] = 0\n",
        "word_to_id[\"<START>\"] = 1\n",
        "word_to_id[\"<UNK>\"] = 2\n",
        "word_to_id[\"<UNUSED>\"] = 3\n",
        "\n",
        "id_to_word = {value:key for key,value in word_to_id.items()}\n",
        "\n",
        "xreviews_train = []\n",
        "for i in range(ximdb_label_data.shape[0]):\n",
        "  xreviews_train.append(' '.join(id_to_word[id] for id in ximdb_train_data[i] ))\n",
        "\n"
      ],
      "execution_count": null,
      "outputs": []
    },
    {
      "cell_type": "code",
      "metadata": {
        "id": "vBhn1Es42GMG"
      },
      "source": [
        "imdb_vectorizer =  CountVectorizer(stop_words='english', max_features=100)\n",
        "xreviews_train = imdb_vectorizer.fit_transform(xreviews_train)\n"
      ],
      "execution_count": null,
      "outputs": []
    },
    {
      "cell_type": "markdown",
      "metadata": {
        "id": "1-oR4KWltoFg"
      },
      "source": [
        "#### Note: This will take some time to run, because of the size of the feature vector. The progress will appear at each fold and finally return the average towards the end."
      ]
    },
    {
      "cell_type": "code",
      "metadata": {
        "id": "QDpy2dSFP_cm"
      },
      "source": [
        "from scipy.sparse import coo_matrix, vstack\n",
        "\n",
        "num_instances = xreviews_train.shape[0]\n",
        "num_folds=5\n",
        "model = MultinomialNaiveBayes()\n",
        "avg = kfoldCV(model, xreviews_train, ximdb_label_data, cross_validate_split(num_instances, num_folds))\n",
        "print('Average:', avg)"
      ],
      "execution_count": null,
      "outputs": []
    },
    {
      "cell_type": "code",
      "metadata": {
        "colab": {
          "base_uri": "https://localhost:8080/",
          "height": 556
        },
        "id": "iOzvWzM54tJf",
        "outputId": "9912fad1-aef5-4f6a-bced-59b0e85e319d"
      },
      "source": [
        "from scipy.sparse import coo_matrix, vstack\n",
        "import matplotlib.pyplot as plt\n",
        "\n",
        "res = []\n",
        "\n",
        "for percentage in [0.2,0.3, 0.4, 0.5, 0.6, 0.7, 0.8]:\n",
        "      model = MultinomialNaiveBayes()\n",
        "      avg = partialTrain(model, xreviews_train, ximdb_label_data, percentage)\n",
        "      print('Average:', avg)\n",
        "      res.append(avg)\n",
        "plt.xlabel('Training data percentage')\n",
        "plt.ylabel('Validation performance')\n",
        "plt.title('Accuracy vs. Dataset Size')\n",
        "plt.plot([0.2,0.3, 0.4, 0.5, 0.6, 0.7, 0.8],res)"
      ],
      "execution_count": null,
      "outputs": [
        {
          "output_type": "stream",
          "text": [
            "Fold  0 ========> Acc: 0.7154\n",
            "Average: 0.7154\n",
            "Fold  0 ========> Acc: 0.7174490699734278\n",
            "Average: 0.7174490699734278\n",
            "Fold  0 ========> Acc: 0.7178905963532117\n",
            "Average: 0.7178905963532117\n",
            "Fold  0 ========> Acc: 0.71644\n",
            "Average: 0.71644\n",
            "Fold  0 ========> Acc: 0.71325\n",
            "Average: 0.71325\n",
            "Fold  0 ========> Acc: 0.7170666666666666\n",
            "Average: 0.7170666666666666\n",
            "Fold  0 ========> Acc: 0.7153715371537154\n",
            "Average: 0.7153715371537154\n"
          ],
          "name": "stdout"
        },
        {
          "output_type": "execute_result",
          "data": {
            "text/plain": [
              "[<matplotlib.lines.Line2D at 0x7f6f31567890>]"
            ]
          },
          "metadata": {
            "tags": []
          },
          "execution_count": 47
        },
        {
          "output_type": "display_data",
          "data": {
            "image/png": "[encoded data removed]",
            "text/plain": [
              "<Figure size 432x288 with 1 Axes>"
            ]
          },
          "metadata": {
            "tags": [],
            "needs_background": "light"
          }
        }
      ]
    },
    {
      "cell_type": "markdown",
      "metadata": {
        "id": "eozzh4AOVsyL"
      },
      "source": [
        "# Newsgroup 20 Dataset"
      ]
    },
    {
      "cell_type": "code",
      "metadata": {
        "id": "jbvzDW9ORIOM",
        "colab": {
          "base_uri": "https://localhost:8080/"
        },
        "outputId": "71f84a3e-b2ca-419b-9b73-1532dfa86441"
      },
      "source": [
        "newsgroups_train = fetch_20newsgroups(subset='all',remove=('headers','footers','quotes'))\n",
        "\n",
        "xnews_train = newsgroups_train.data\n",
        "ynews_train = newsgroups_train.target"
      ],
      "execution_count": null,
      "outputs": [
        {
          "output_type": "stream",
          "text": [
            "Downloading 20news dataset. This may take a few minutes.\n",
            "Downloading dataset from https://ndownloader.figshare.com/files/5975967 (14 MB)\n"
          ],
          "name": "stderr"
        }
      ]
    },
    {
      "cell_type": "code",
      "metadata": {
        "id": "gDNroqomVCGd"
      },
      "source": [
        "vectorizer = CountVectorizer(stop_words='english', max_features=100)\n",
        "xnews_train = vectorizer.fit_transform(xnews_train)\n"
      ],
      "execution_count": null,
      "outputs": []
    },
    {
      "cell_type": "markdown",
      "metadata": {
        "id": "RkeCtiIlt4aw"
      },
      "source": [
        "#### Note: This will take some time to run, because of the size of the feature vector. The progress will appear at each fold and finally return the average towards the end."
      ]
    },
    {
      "cell_type": "code",
      "metadata": {
        "id": "_RCa2bJNI9of"
      },
      "source": [
        "from scipy.sparse import coo_matrix, vstack\n",
        "\n",
        "num_instances = xnews_train.shape[0]\n",
        "num_folds=5\n",
        "model = MultinomialNaiveBayes()\n",
        "avg = kfoldCV(model, xnews_train, ynews_train, cross_validate_split(num_instances, num_folds))\n",
        "print('Average:', avg)"
      ],
      "execution_count": null,
      "outputs": []
    },
    {
      "cell_type": "code",
      "metadata": {
        "colab": {
          "base_uri": "https://localhost:8080/",
          "height": 556
        },
        "id": "dYfHF7zuAlmi",
        "outputId": "66fd1a6e-3f8f-430c-de3f-4aa4300f30e5"
      },
      "source": [
        "from scipy.sparse import coo_matrix, vstack\n",
        "import matplotlib.pyplot as plt\n",
        "\n",
        "res = []\n",
        "\n",
        "for percentage in [0.2,0.3, 0.4, 0.5, 0.6, 0.7, 0.8]:\n",
        "      model = MultinomialNaiveBayes()\n",
        "      avg = partialTrain(model, xnews_train, ynews_train, percentage)\n",
        "      print('Average:', avg)\n",
        "      res.append(avg)\n",
        "plt.xlabel('Training data percentage')\n",
        "plt.ylabel('Validation performance')\n",
        "plt.title('Accuracy vs. Dataset Size')\n",
        "plt.plot([0.2,0.3, 0.4, 0.5, 0.6, 0.7, 0.8],res,color='red')"
      ],
      "execution_count": null,
      "outputs": [
        {
          "output_type": "stream",
          "text": [
            "Fold  0 ========> Acc: 0.2434332714247811\n",
            "Average: 0.2434332714247811\n",
            "Fold  0 ========> Acc: 0.25742874469375376\n",
            "Average: 0.25742874469375376\n",
            "Fold  0 ========> Acc: 0.26638365614221277\n",
            "Average: 0.26638365614221277\n",
            "Fold  0 ========> Acc: 0.2682797410591107\n",
            "Average: 0.2682797410591107\n",
            "Fold  0 ========> Acc: 0.26452639957548424\n",
            "Average: 0.26452639957548424\n",
            "Fold  0 ========> Acc: 0.2715372368653812\n",
            "Average: 0.2715372368653812\n",
            "Fold  0 ========> Acc: 0.2695675245423189\n",
            "Average: 0.2695675245423189\n"
          ],
          "name": "stdout"
        },
        {
          "output_type": "execute_result",
          "data": {
            "text/plain": [
              "[<matplotlib.lines.Line2D at 0x7f6f2fb5d250>]"
            ]
          },
          "metadata": {
            "tags": []
          },
          "execution_count": 51
        },
        {
          "output_type": "display_data",
          "data": {
            "image/png": "[encoded data removed]",
            "text/plain": [
              "<Figure size 432x288 with 1 Axes>"
            ]
          },
          "metadata": {
            "tags": [],
            "needs_background": "light"
          }
        }
      ]
    },
    {
      "cell_type": "markdown",
      "metadata": {
        "id": "p8Cw-l0CVANP"
      },
      "source": [
        "# Logistic Regression (Benchmark)\n",
        "\n",
        "\n"
      ]
    },
    {
      "cell_type": "markdown",
      "metadata": {
        "id": "0GBAfi_gWYMk"
      },
      "source": [
        "### IMDB Logistic Regression (Benchmark)"
      ]
    },
    {
      "cell_type": "code",
      "metadata": {
        "id": "T4zX0bYRu7QX"
      },
      "source": [
        "from sklearn.model_selection import RandomizedSearchCV\n",
        "from sklearn.linear_model import SGDClassifier \n",
        "alpha = [0.0001, 0.001, 0.01, 0.1, 1, 10, 100, 1000] \n",
        "learning_rate = ['constant', 'optimal', 'invscaling', 'adaptive']\n",
        "eta0 = [1, 10, 100] \n",
        "param_distributions = dict(alpha=alpha, learning_rate=learning_rate, eta0=eta0) "
      ],
      "execution_count": null,
      "outputs": []
    },
    {
      "cell_type": "code",
      "metadata": {
        "colab": {
          "base_uri": "https://localhost:8080/"
        },
        "id": "iQIjTcgCvRiE",
        "outputId": "6fdb30ec-25f9-4ccf-e086-39cf37ffce00"
      },
      "source": [
        "sgd = SGDClassifier(loss=\"log\", penalty=None) \n",
        "random = RandomizedSearchCV(estimator=sgd, param_distributions=param_distributions, cv=5) \n",
        "random_result = random.fit(xreviews_train, ximdb_label_data) \n",
        "print('Best Score: ', random_result.best_score_) \n",
        "print('Best Params: ', random_result.best_params_) "
      ],
      "execution_count": null,
      "outputs": [
        {
          "output_type": "stream",
          "text": [
            "Best Score:  0.8657999999999999\n",
            "Best Params:  {'learning_rate': 'adaptive', 'eta0': 100, 'alpha': 0.001}\n"
          ],
          "name": "stdout"
        }
      ]
    },
    {
      "cell_type": "markdown",
      "metadata": {
        "id": "PWmuYaLvWb3_"
      },
      "source": [
        "### Newsgroup Logistic Regression (Benchmark)"
      ]
    },
    {
      "cell_type": "code",
      "metadata": {
        "id": "FIBju4JTpmUT"
      },
      "source": [
        "from sklearn.model_selection import RandomizedSearchCV\n",
        "from sklearn.linear_model import SGDClassifier \n",
        "alpha = [0.0001, 0.001, 0.01, 0.1, 1, 10, 100, 1000] \n",
        "learning_rate = ['constant', 'optimal', 'invscaling', 'adaptive']\n",
        "eta0 = [1, 10, 100] \n",
        "param_distributions = dict(alpha=alpha, learning_rate=learning_rate, eta0=eta0) "
      ],
      "execution_count": null,
      "outputs": []
    },
    {
      "cell_type": "code",
      "metadata": {
        "colab": {
          "base_uri": "https://localhost:8080/"
        },
        "id": "7YR6pqn_1YjT",
        "outputId": "00e657e3-66e4-428c-b889-1548c33cf0e2"
      },
      "source": [
        "sgd = SGDClassifier(loss=\"log\", penalty=None) \n",
        "random = RandomizedSearchCV(estimator=sgd, param_distributions=param_distributions, cv=5) \n",
        "random_result = random.fit(xnews_train, ynews_train) \n",
        "print('Best Score: ', random_result.best_score_) \n",
        "print('Best Params: ', random_result.best_params_) "
      ],
      "execution_count": null,
      "outputs": [
        {
          "output_type": "stream",
          "text": [
            "/usr/local/lib/python3.7/dist-packages/sklearn/linear_model/_stochastic_gradient.py:557: ConvergenceWarning: Maximum number of iteration reached before convergence. Consider increasing max_iter to improve the fit.\n",
            "  ConvergenceWarning)\n"
          ],
          "name": "stderr"
        },
        {
          "output_type": "stream",
          "text": [
            "Best Score:  0.659556510497124\n",
            "Best Params:  {'learning_rate': 'constant', 'eta0': 10, 'alpha': 0.1}\n"
          ],
          "name": "stdout"
        }
      ]
    }
  ]
}